{
 "cells": [
  {
   "cell_type": "code",
   "execution_count": null,
   "metadata": {},
   "outputs": [],
   "source": [
    "import os"
   ]
  },
  {
   "attachments": {},
   "cell_type": "markdown",
   "metadata": {},
   "source": [
    "# Author Name: Charles Phillips\n",
    "# Program name: College Student Class Ranking\n",
    "# This program accepts a student's last name and first name,\n",
    "# and then prints out where that student ranks in their class based on their GPA."
   ]
  },
  {
   "cell_type": "code",
   "execution_count": null,
   "metadata": {},
   "outputs": [],
   "source": [
    "exitString = 'ZZZ'  # Customizable string to exit the program"
   ]
  },
  {
   "cell_type": "code",
   "execution_count": null,
   "metadata": {},
   "outputs": [],
   "source": [
    "def student_info():\n",
    "    while True:\n",
    "        last_name = input(\"Enter student's last name (or ZZZ to quit): \")\n",
    "        if last_name == 'ZZZ':\n",
    "            break\n",
    "        elif not last_name.isalpha():\n",
    "            os.system('cls')\n",
    "            print(\"Error: Last name can only contain letters.\")\n",
    "            continue\n",
    "        first_name = input(\"Enter student's first name: \")\n",
    "        if not first_name.isalpha():\n",
    "            os.system('cls')\n",
    "            print(\"Error: First name can only contain letters.\")\n",
    "            continue\n",
    "        while True:\n",
    "            try:\n",
    "                gpa = float(input(\"Enter student's GPA: \"))\n",
    "                if gpa < 0 or gpa > 4:\n",
    "                    raise ValueError\n",
    "                break\n",
    "            except ValueError:\n",
    "                os.system('cls')\n",
    "                print(\"Invalid input. GPA must be a float between 0 and 4.\")\n",
    "        if gpa >= 3.5:\n",
    "            print(f\"{first_name}, {last_name} made the Dean's List!\")\n",
    "        elif gpa >= 3.25:\n",
    "            print(f\"{first_name}, {last_name} made the Honor Roll!\")\n",
    "        else:\n",
    "            print(f\"{first_name} {last_name} did not qualify for Dean's List or Honor Roll.\")"
   ]
  },
  {
   "cell_type": "code",
   "execution_count": null,
   "metadata": {},
   "outputs": [],
   "source": [
    "student_info()"
   ]
  }
 ],
 "metadata": {
  "language_info": {
   "name": "python"
  },
  "orig_nbformat": 4
 },
 "nbformat": 4,
 "nbformat_minor": 2
}
